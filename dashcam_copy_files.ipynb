{
 "cells": [
  {
   "cell_type": "code",
   "execution_count": 2,
   "metadata": {},
   "outputs": [
    {
     "name": "stdout",
     "output_type": "stream",
     "text": [
      "20400\n"
     ]
    }
   ],
   "source": [
    "file = \"../data/train.txt\"\n",
    "\n",
    "speeds = []\n",
    "\n",
    "with open(file) as f:\n",
    "    for line in f: # read rest of lines\n",
    "        speeds.append(float(line))\n",
    "\n",
    "print(len(speeds))"
   ]
  },
  {
   "cell_type": "code",
   "execution_count": 1,
   "metadata": {},
   "outputs": [],
   "source": [
    "from pathlib import Path\n",
    "\n",
    "image_dir = Path(\"../data/flowdata/\")"
   ]
  },
  {
   "cell_type": "code",
   "execution_count": 5,
   "metadata": {},
   "outputs": [],
   "source": [
    "import random\n",
    "\n",
    "max_file = len(speeds)-1\n",
    "\n",
    "last_file = 18500\n",
    "\n",
    "all_files = indexes = random.sample(range(0,last_file), 1000)\n",
    "\n",
    "valid_test = random.sample(all_files,300)\n",
    "\n",
    "train_files = list(filter(lambda file: file not in valid_test, all_files))\n",
    "\n",
    "valid_files = random.sample(valid_test,150)\n",
    "\n",
    "test_files =  list(filter(lambda file: file not in valid_files, valid_test))\n"
   ]
  },
  {
   "cell_type": "code",
   "execution_count": 6,
   "metadata": {},
   "outputs": [
    {
     "name": "stdout",
     "output_type": "stream",
     "text": [
      "Did not find customdata directory, creating one...\n",
      "Did not find customdata/train directory, creating one...\n",
      "Did not find customdata/valid directory, creating one...\n",
      "Did not find customdata/test directory, creating one...\n"
     ]
    }
   ],
   "source": [
    "import shutil\n",
    "from pathlib import Path\n",
    "\n",
    "def makeDir(pathStr):\n",
    "    dest = Path(pathStr)\n",
    "\n",
    "    if dest.is_dir():\n",
    "        print(f\"{dest} directory exists.\")\n",
    "    else:\n",
    "        print(f\"Did not find {dest} directory, creating one...\")\n",
    "        dest.mkdir(parents=True, exist_ok=True)\n",
    "\n",
    "makeDir(\"customdata/\")\n",
    "makeDir(\"customdata/train\")\n",
    "makeDir(\"customdata/valid\")\n",
    "makeDir(\"customdata/test\")\n",
    "\n",
    "def copyFiles(indexList,destStr):\n",
    "    for index in indexList:\n",
    "        filename = f\"../data/flowdata/predicted_flow_{index}.jpg\"\n",
    "        dest = f\"{destStr}/{index}.jpg\"\n",
    "        shutil.copy(filename,dest)\n",
    "\n",
    "copyFiles(train_files,\"customdata/train\")\n",
    "copyFiles(valid_files,\"customdata/valid\")\n",
    "copyFiles(test_files,\"customdata/test\")"
   ]
  }
 ],
 "metadata": {
  "kernelspec": {
   "display_name": "Python 3.10.6 64-bit ('3.10.6')",
   "language": "python",
   "name": "python3"
  },
  "language_info": {
   "codemirror_mode": {
    "name": "ipython",
    "version": 3
   },
   "file_extension": ".py",
   "mimetype": "text/x-python",
   "name": "python",
   "nbconvert_exporter": "python",
   "pygments_lexer": "ipython3",
   "version": "3.10.6"
  },
  "orig_nbformat": 4,
  "vscode": {
   "interpreter": {
    "hash": "20ef86c20049361475aaaa8223e2b30af07e99e2c82fd51c713d1712f3b4e125"
   }
  }
 },
 "nbformat": 4,
 "nbformat_minor": 2
}
