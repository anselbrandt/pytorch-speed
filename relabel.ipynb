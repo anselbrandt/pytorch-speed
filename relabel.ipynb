{
 "cells": [
  {
   "cell_type": "code",
   "execution_count": 1,
   "metadata": {},
   "outputs": [
    {
     "name": "stdout",
     "output_type": "stream",
     "text": [
      "20400\n"
     ]
    }
   ],
   "source": [
    "file = \"../data/train.txt\"\n",
    "\n",
    "speeds = []\n",
    "\n",
    "with open(file) as f:\n",
    "    for line in f: # read rest of lines\n",
    "        speeds.append(float(line))\n",
    "\n",
    "print(len(speeds))"
   ]
  },
  {
   "cell_type": "code",
   "execution_count": 32,
   "metadata": {},
   "outputs": [
    {
     "name": "stdout",
     "output_type": "stream",
     "text": [
      "done.\n"
     ]
    }
   ],
   "source": [
    "# flow0.jpg\n",
    "# 0 - 20399\n",
    "# 28.105569.jpg\n",
    "# 1 - 20400\n",
    "\n",
    "from pathlib import Path\n",
    "\n",
    "image_path = data_path = Path(\"../data/labeled\")\n",
    "\n",
    "for i in range(1,len(speeds)):\n",
    "    filename = \"flow\" + str(i-1) + \".jpg\"\n",
    "    old_name = image_path / filename\n",
    "    label = str(speeds[i]) + \".jpg\"\n",
    "    new_name = image_path / label\n",
    "    os.rename(old_name, new_name)\n",
    "print(\"done.\")"
   ]
  }
 ],
 "metadata": {
  "kernelspec": {
   "display_name": "Python 3.10.6 64-bit",
   "language": "python",
   "name": "python3"
  },
  "language_info": {
   "codemirror_mode": {
    "name": "ipython",
    "version": 3
   },
   "file_extension": ".py",
   "mimetype": "text/x-python",
   "name": "python",
   "nbconvert_exporter": "python",
   "pygments_lexer": "ipython3",
   "version": "3.10.6"
  },
  "orig_nbformat": 4,
  "vscode": {
   "interpreter": {
    "hash": "aee8b7b246df8f9039afb4144a1f6fd8d2ca17a180786b69acc140d282b71a49"
   }
  }
 },
 "nbformat": 4,
 "nbformat_minor": 2
}
