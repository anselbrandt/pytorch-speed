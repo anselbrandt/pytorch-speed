{
 "cells": [
  {
   "cell_type": "code",
   "execution_count": 1,
   "metadata": {},
   "outputs": [
    {
     "name": "stdout",
     "output_type": "stream",
     "text": [
      "2.206759\n"
     ]
    }
   ],
   "source": [
    "file = \"../data/train.txt\"\n",
    "\n",
    "speeds = []\n",
    "\n",
    "with open(file) as f:\n",
    "    for line in f: # read rest of lines\n",
    "        speeds.append(float(line))\n",
    "\n",
    "print(speeds[len(speeds)-1])"
   ]
  },
  {
   "cell_type": "code",
   "execution_count": 2,
   "metadata": {},
   "outputs": [
    {
     "data": {
      "image/png": "[encoded data removed]",
      "text/plain": [
       "<Figure size 640x480 with 1 Axes>"
      ]
     },
     "metadata": {},
     "output_type": "display_data"
    }
   ],
   "source": [
    "# generate random index numbers to select training data\n",
    "import random\n",
    "import matplotlib.pyplot as plt\n",
    "\n",
    "randomlist = []\n",
    "\n",
    "size = 1000\n",
    "\n",
    "for i in range(0,size):\n",
    "    n = random.randint(1,len(speeds)-1)\n",
    "    randomlist.append(n)\n",
    "\n",
    "plt.hist(randomlist)\n",
    "plt.show() "
   ]
  },
  {
   "cell_type": "code",
   "execution_count": 3,
   "metadata": {},
   "outputs": [
    {
     "name": "stdout",
     "output_type": "stream",
     "text": [
      "1000\n"
     ]
    }
   ],
   "source": [
    "print(len(randomlist))"
   ]
  },
  {
   "cell_type": "code",
   "execution_count": 39,
   "metadata": {},
   "outputs": [
    {
     "name": "stdout",
     "output_type": "stream",
     "text": [
      "customdata directory exists.\n"
     ]
    }
   ],
   "source": [
    "import shutil\n",
    "\n",
    "from pathlib import Path\n",
    "\n",
    "dest_folder = Path(\"customdata/\")\n",
    "\n",
    "if dest_folder.is_dir():\n",
    "    print(f\"{dest_folder} directory exists.\")\n",
    "else:\n",
    "    print(f\"Did not find {dest_folder} directory, creating one...\")\n",
    "    dest_folder.mkdir(parents=True, exist_ok=True)\n",
    "\n",
    "files = []\n",
    "\n",
    "for i in randomlist:\n",
    "    filename = f\"../data/labeled/{speeds[i]}.jpg\"\n",
    "    files.append(filename)\n",
    "\n",
    "with open('copylist.txt', 'w') as f:\n",
    "    for file in files:\n",
    "        f.write(f\"{file}\\n\")\n"
   ]
  }
 ],
 "metadata": {
  "kernelspec": {
   "display_name": "Python 3.10.6 64-bit",
   "language": "python",
   "name": "python3"
  },
  "language_info": {
   "codemirror_mode": {
    "name": "ipython",
    "version": 3
   },
   "file_extension": ".py",
   "mimetype": "text/x-python",
   "name": "python",
   "nbconvert_exporter": "python",
   "pygments_lexer": "ipython3",
   "version": "3.10.6"
  },
  "orig_nbformat": 4,
  "vscode": {
   "interpreter": {
    "hash": "aee8b7b246df8f9039afb4144a1f6fd8d2ca17a180786b69acc140d282b71a49"
   }
  }
 },
 "nbformat": 4,
 "nbformat_minor": 2
}
