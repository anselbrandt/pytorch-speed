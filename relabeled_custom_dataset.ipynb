{
 "cells": [
  {
   "cell_type": "code",
   "execution_count": 1,
   "metadata": {},
   "outputs": [],
   "source": [
    "from torch.utils.data.dataset import Dataset\n",
    "\n",
    "class CustomDatasetFromFile(Dataset):\n",
    "    def __init__(self, folder_path):\n",
    "        \"\"\"\n",
    "        A dataset example where the class is embedded in the file names\n",
    "        This data example also does not use any torch transforms\n",
    "\n",
    "        Args:\n",
    "            folder_path (string): path to image folder\n",
    "        \"\"\"\n",
    "        # Get image list\n",
    "        self.image_list = glob.glob(folder_path+'*')\n",
    "        # Calculate len\n",
    "        self.data_len = len(self.image_list)\n",
    "\n",
    "    def __getitem__(self, index):\n",
    "        # Get image name from the pandas df\n",
    "        single_image_path = self.image_list[index]\n",
    "        # Open image\n",
    "        im_as_im = Image.open(single_image_path)\n",
    "\n",
    "        # Do some operations on image\n",
    "        # Convert to numpy, dim = 28x28\n",
    "        im_as_np = np.asarray(im_as_im)/255\n",
    "        # Add channel dimension, dim = 1x28x28\n",
    "        # Note: You do not need to do this if you are reading RGB images\n",
    "        # or i there is already channel dimension\n",
    "        im_as_np = np.expand_dims(im_as_np, 0)\n",
    "        # Some preprocessing operations on numpy array\n",
    "        # ...\n",
    "        # ...\n",
    "        # ...\n",
    "\n",
    "        # Transform image to tensor, change data type\n",
    "        im_as_ten = torch.from_numpy(im_as_np).float()\n",
    "\n",
    "        # Get label(class) of the image based on the file name\n",
    "        class_indicator_location = single_image_path.rfind('_c')\n",
    "        label = int(single_image_path[class_indicator_location+2:class_indicator_location+3])\n",
    "        return (im_as_ten, label)\n",
    "\n",
    "    def __len__(self):\n",
    "        return self.data_len"
   ]
  }
 ],
 "metadata": {
  "kernelspec": {
   "display_name": "Python 3.10.6 64-bit",
   "language": "python",
   "name": "python3"
  },
  "language_info": {
   "codemirror_mode": {
    "name": "ipython",
    "version": 3
   },
   "file_extension": ".py",
   "mimetype": "text/x-python",
   "name": "python",
   "nbconvert_exporter": "python",
   "pygments_lexer": "ipython3",
   "version": "3.10.6"
  },
  "orig_nbformat": 4,
  "vscode": {
   "interpreter": {
    "hash": "aee8b7b246df8f9039afb4144a1f6fd8d2ca17a180786b69acc140d282b71a49"
   }
  }
 },
 "nbformat": 4,
 "nbformat_minor": 2
}
